{
 "cells": [
  {
   "cell_type": "code",
   "execution_count": 1,
   "metadata": {},
   "outputs": [],
   "source": [
    "import cv2\n",
    "import zmq\n",
    "import pickle\n",
    "import sys\n",
    "import numpy as np\n",
    "from matplotlib import pyplot as plt"
   ]
  },
  {
   "cell_type": "code",
   "execution_count": 2,
   "metadata": {},
   "outputs": [],
   "source": [
    "def process(image, process_type):\n",
    "    # Deserialization\n",
    "    image_client = deserialization(image_client_pickle)\n",
    "    if (process_type == \"alpha\"):\n",
    "        # Alfa Blending\n",
    "        src = cv2.imread('../input/pelican.png')\n",
    "        filtered = alphaTransform(image_client, src)\n",
    "    elif (process_type == \"horizontal\"):\n",
    "        # horizontal edge detector\n",
    "        kernel = np.array([[1, 0, -1],\n",
    "                           [1, 0, -1],\n",
    "                           [1, 0, -1]])\n",
    "        filtered = filterTransform(image_client, kernel)\n",
    "    elif (process_type == \"vertical\"):\n",
    "        # vertical edge detector\n",
    "        kernel = np.array([[1,  1,  1],\n",
    "                           [0,  0,  0],\n",
    "                           [-1, -1, -1]])\n",
    "        filtered = filterTransform(image_client, kernel)\n",
    "    elif (process_type == \"blurring\"):\n",
    "        # blurring (\"box blur\", because it's a box of ones)\n",
    "        kernel = np.array([[1, 1, 1],\n",
    "                           [1, 1, 1],\n",
    "                           [1, 1, 1]]) / 9.0\n",
    "        filtered = filterTransform(image_client, kernel)\n",
    "    elif (process_type == \"sharpening\"):\n",
    "        # sharpening\n",
    "        kernel = (np.array([[-1, -1, -1],\n",
    "                            [-1,  9, -1],\n",
    "                            [-1, -1, -1]]))\n",
    "        filtered = filterTransform(image_client, kernel)\n",
    "    else:\n",
    "        print(\"</Process image unknown>\")\n",
    "        filtered = image\n",
    "    # Serialization\n",
    "    image_server_pickle = serialization(filtered)\n",
    "    return image_server_pickle"
   ]
  },
  {
   "cell_type": "code",
   "execution_count": 3,
   "metadata": {},
   "outputs": [],
   "source": [
    "def alphaTransform(dest, src):\n",
    "    foreground = dest\n",
    "    background = src\n",
    "    ret, alpha = cv2.threshold(foreground, 127,255, cv2.THRESH_BINARY_INV)\n",
    "    # Convert uint8 to float\n",
    "    foreground = foreground.astype(float)\n",
    "    background = background.astype(float)\n",
    "\n",
    "    # Normalize the alpha mask to keep intensity between 0 and 1\n",
    "    alpha = alpha.astype(float)/255\n",
    "\n",
    "    # Multiply the foreground with the alpha matte\n",
    "    foreground = cv2.multiply(alpha, foreground)\n",
    "\n",
    "    # Multiply the background with ( 1 - alpha )\n",
    "    background = cv2.multiply(1.0 - alpha, background)\n",
    "\n",
    "    # Add the masked foreground and background.\n",
    "    image_alpha = cv2.add(foreground, background)\n",
    "    \n",
    "    return image_alpha"
   ]
  },
  {
   "cell_type": "code",
   "execution_count": 4,
   "metadata": {},
   "outputs": [],
   "source": [
    "def filterTransform(dest, kernel):\n",
    "    filtered = cv2.filter2D(src=dest, kernel=kernel, ddepth=-1)\n",
    "    return filtered"
   ]
  },
  {
   "cell_type": "code",
   "execution_count": 5,
   "metadata": {},
   "outputs": [],
   "source": [
    "def serialization(image):\n",
    "    image_pickle = pickle.dumps(image)\n",
    "    return image_pickle"
   ]
  },
  {
   "cell_type": "code",
   "execution_count": null,
   "metadata": {},
   "outputs": [],
   "source": [
    "def deserialization(image):\n",
    "    image_pickle = pickle.loads(image)\n",
    "    return image_pickle"
   ]
  },
  {
   "cell_type": "code",
   "execution_count": null,
   "metadata": {
    "scrolled": true
   },
   "outputs": [],
   "source": [
    "context = zmq.Context()\n",
    "socket = context.socket(zmq.REP)\n",
    "socket.bind(\"tcp://*:5551\")\n",
    "\n",
    "while True:\n",
    "    # Receive process type\n",
    "    process_type = socket.recv_string()\n",
    "    # Send reply back to client\n",
    "    socket.send_string(\"image_server_pickle\")\n",
    "    # Wait for next request from client\n",
    "    image_client_pickle = socket.recv()\n",
    "    # Process image\n",
    "    image_server_pickle = process(image_client_pickle, process_type)\n",
    "    # Send reply back to client\n",
    "    socket.send(image_server_pickle)"
   ]
  },
  {
   "cell_type": "code",
   "execution_count": null,
   "metadata": {},
   "outputs": [],
   "source": []
  }
 ],
 "metadata": {
  "kernelspec": {
   "display_name": "Python 3",
   "language": "python",
   "name": "python3"
  },
  "language_info": {
   "codemirror_mode": {
    "name": "ipython",
    "version": 3
   },
   "file_extension": ".py",
   "mimetype": "text/x-python",
   "name": "python",
   "nbconvert_exporter": "python",
   "pygments_lexer": "ipython3",
   "version": "3.6.2"
  }
 },
 "nbformat": 4,
 "nbformat_minor": 2
}
